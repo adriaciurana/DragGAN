{
 "cells": [
  {
   "attachments": {},
   "cell_type": "markdown",
   "metadata": {},
   "source": [
    "# Unofficial implementation of the paper \"Drag Your GAN: Interactive Point based Manipulation on the Generative Image Manifold\"\n",
    "### Drag Your GAN: Interactive Point-based Manipulation on the Generative Image Manifold"
   ]
  },
  {
   "attachments": {},
   "cell_type": "markdown",
   "metadata": {},
   "source": [
    "#### Remember!\n",
    "Stylegan-v2 uses by default GPU, please change the runtime type.\n",
    "\n",
    "![Step](https://drive.google.com/uc?export=view&id=1m6X1VhGisX4wlGmNgaM_qemcyu1jMXA7)"
   ]
  },
  {
   "attachments": {},
   "cell_type": "markdown",
   "metadata": {},
   "source": [
    "Install the requirements:"
   ]
  },
  {
   "cell_type": "code",
   "execution_count": null,
   "metadata": {},
   "outputs": [],
   "source": [
    "!git clone --recurse https://github.com/adriaciurana/DragGAN.git drag_gan\n",
    "!pip install -r drag_gan/requirements.txt"
   ]
  },
  {
   "attachments": {},
   "cell_type": "markdown",
   "metadata": {},
   "source": [
    "Import DragGAN:"
   ]
  },
  {
   "cell_type": "code",
   "execution_count": null,
   "metadata": {},
   "outputs": [],
   "source": [
    "import sys\n",
    "from pathlib import Path\n",
    "\n",
    "sys.path.append(str(Path(\".\") / \"drag_gan\"))"
   ]
  },
  {
   "attachments": {},
   "cell_type": "markdown",
   "metadata": {},
   "source": [
    "Launch shared gradio!"
   ]
  },
  {
   "cell_type": "code",
   "execution_count": null,
   "metadata": {},
   "outputs": [],
   "source": [
    "import torch\n",
    "from gradio_app import main\n",
    "from drag_gan.generators import StyleGANv2Generator\n",
    "\n",
    "network_pkl = \"https://nvlabs-fi-cdn.nvidia.com/stylegan2-ada-pytorch/pretrained/afhqwild.pkl\"\n",
    "default_seed: int = 42\n",
    "device: str = \"cuda:0\" if torch.cuda.is_available() else \"cpu\"\n",
    "\n",
    "generator = StyleGANv2Generator(\n",
    "    network_pkl=network_pkl,\n",
    ")\n",
    "main(generator, default_seed, device).queue(concurrency_count=2, max_size=20).launch(share=True)"
   ]
  }
 ],
 "metadata": {
  "kernelspec": {
   "display_name": "Python 3",
   "language": "python",
   "name": "python3"
  },
  "language_info": {
   "codemirror_mode": {
    "name": "ipython",
    "version": 3
   },
   "file_extension": ".py",
   "mimetype": "text/x-python",
   "name": "python",
   "nbconvert_exporter": "python",
   "pygments_lexer": "ipython3",
   "version": "3.9.16"
  },
  "orig_nbformat": 4
 },
 "nbformat": 4,
 "nbformat_minor": 2
}
